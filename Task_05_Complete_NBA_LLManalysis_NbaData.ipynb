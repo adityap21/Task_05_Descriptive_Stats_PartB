{
 "cells": [
  {
   "cell_type": "markdown",
   "id": "82b553b8",
   "metadata": {},
   "source": [
    "# Task 05 — Descriptive Stats & LLM Comparison (NBA 2022–23)\n",
    "\n",
    "**Dataset:** `Nba_data.csv` (preferred)"
   ]
  },
  {
   "cell_type": "code",
   "execution_count": null,
   "id": "d78e26a3",
   "metadata": {},
   "outputs": [],
   "source": [
    "import pandas as pd, numpy as np, os, matplotlib.pyplot as plt\n",
    "pd.set_option(\"display.float_format\", lambda x: f\"{x:0.3f}\")"
   ]
  },
  {
   "cell_type": "code",
   "execution_count": null,
   "id": "ca23787a",
   "metadata": {},
   "outputs": [],
   "source": [
    "# Data load preference:\n",
    "# 1) Nba_data.csv (repo root)\n",
    "# 2) data/nba_players_2022_23.csv\n",
    "# 3) nba_2022_23_subset.csv (fallback included)\n",
    "\n",
    "candidates = [\n",
    "    \"Nba_data.csv\",\n",
    "    \"data/nba_players_2022_23.csv\",\n",
    "    \"/mnt/data/nba_2022_23_subset.csv\",\n",
    "    \"nba_2022_23_subset.csv\",\n",
    "]\n",
    "\n",
    "source = None\n",
    "for p in candidates:\n",
    "    if os.path.exists(p):\n",
    "        source = p\n",
    "        break\n",
    "\n",
    "if source is None:\n",
    "    raise FileNotFoundError(\"No dataset found. Please add Nba_data.csv or data/nba_players_2022_23.csv.\")\n",
    "\n",
    "df = pd.read_csv(source)\n",
    "print(\"Loaded:\", source)\n",
    "df.head()"
   ]
  },
  {
   "cell_type": "markdown",
   "id": "20c84554",
   "metadata": {},
   "source": [
    "## Clean & describe"
   ]
  },
  {
   "cell_type": "code",
   "execution_count": null,
   "id": "79e2efbc",
   "metadata": {},
   "outputs": [],
   "source": [
    "num_cols = [\"PTS\",\"REB\",\"AST\",\"STL\",\"BLK\",\"FG%\",\"3P%\",\"FT%\"]\n",
    "for c in num_cols:\n",
    "    if c in df.columns:\n",
    "        df[c] = pd.to_numeric(df[c], errors=\"coerce\")\n",
    "for c in [\"FG%\",\"3P%\",\"FT%\"]:\n",
    "    if c in df.columns and df[c].max(skipna=True) > 1.0:\n",
    "        df[c] = df[c] / 100.0\n",
    "\n",
    "df.describe(include='all')"
   ]
  },
  {
   "cell_type": "markdown",
   "id": "53f7cfdb",
   "metadata": {},
   "source": [
    "## Q1: Top scorer"
   ]
  },
  {
   "cell_type": "code",
   "execution_count": null,
   "id": "a54474e5",
   "metadata": {},
   "outputs": [],
   "source": [
    "top_scorer = df.loc[df['PTS'].idxmax()]\n",
    "{'player': top_scorer['Player'], 'PTS': float(top_scorer['PTS'])}"
   ]
  },
  {
   "cell_type": "markdown",
   "id": "b5d4eae2",
   "metadata": {},
   "source": [
    "## Q2: Best all-around (PTS+REB+AST)"
   ]
  },
  {
   "cell_type": "code",
   "execution_count": null,
   "id": "81eab086",
   "metadata": {},
   "outputs": [],
   "source": [
    "df['ALL_AROUND'] = df[['PTS','REB','AST']].sum(axis=1, skipna=True)\n",
    "best_all = df.loc[df['ALL_AROUND'].idxmax()]\n",
    "{'player': best_all['Player'], 'ALL_AROUND': float(best_all['ALL_AROUND'])}"
   ]
  },
  {
   "cell_type": "markdown",
   "id": "8c6544dd",
   "metadata": {},
   "source": [
    "## Q3: “Most complete” (z-score composite across available stats)"
   ]
  },
  {
   "cell_type": "code",
   "execution_count": null,
   "id": "3a7d1f65",
   "metadata": {},
   "outputs": [],
   "source": [
    "from scipy.stats import zscore\n",
    "features = [\"PTS\",\"REB\",\"AST\",\"STL\",\"BLK\",\"FG%\",\"3P%\",\"FT%\"]\n",
    "avail = [c for c in features if c in df.columns]\n",
    "dfc = df.copy()\n",
    "for c in avail:\n",
    "    dfc[f\"z_{c}\"] = (dfc[c] - dfc[c].mean(skipna=True))/dfc[c].std(skipna=True)\n",
    "zcols = [f\"z_{c}\" for c in avail]\n",
    "dfc[\"COMPOSITE\"] = dfc[zcols].mean(axis=1, skipna=True)\n",
    "q3_table = dfc[[\"Player\",\"COMPOSITE\"] + avail].sort_values(\"COMPOSITE\", ascending=False)\n",
    "q3_table.head(10)"
   ]
  },
  {
   "cell_type": "markdown",
   "id": "8b6ff8d1",
   "metadata": {},
   "source": [
    "## Q4: Best shooter (leaders by FG%, 3P%, FT% + composite)"
   ]
  },
  {
   "cell_type": "code",
   "execution_count": null,
   "id": "4682bfe7",
   "metadata": {},
   "outputs": [],
   "source": [
    "sh = [c for c in [\"FG%\",\"3P%\",\"FT%\"] if c in df.columns]\n",
    "leaders = {c: df.loc[df[c].idxmax(), 'Player'] for c in sh}\n",
    "tmp = df.copy()\n",
    "for c in sh:\n",
    "    tmp[f\"z_{c}\"] = (tmp[c]-tmp[c].mean(skipna=True))/tmp[c].std(skipna=True)\n",
    "z = [f\"z_{c}\" for c in sh]\n",
    "tmp[\"SHOOTER_SCORE\"] = tmp[z].mean(axis=1, skipna=True)\n",
    "best_overall = tmp.loc[tmp[\"SHOOTER_SCORE\"].idxmax(), 'Player']\n",
    "{'leaders_by_stat': leaders, 'best_overall_composite': best_overall}"
   ]
  },
  {
   "cell_type": "markdown",
   "id": "7fe84f59",
   "metadata": {},
   "source": [
    "## Q5: Count players ≥25 PPG"
   ]
  },
  {
   "cell_type": "code",
   "execution_count": null,
   "id": "f0404721",
   "metadata": {},
   "outputs": [],
   "source": [
    "int((df['PTS'] >= 25).sum())"
   ]
  },
  {
   "cell_type": "markdown",
   "id": "6de3a91f",
   "metadata": {},
   "source": [
    "## Q6: Count players ≥8 AST"
   ]
  },
  {
   "cell_type": "code",
   "execution_count": null,
   "id": "0b3e27dd",
   "metadata": {},
   "outputs": [],
   "source": [
    "int((df['AST'] >= 8).sum())"
   ]
  },
  {
   "cell_type": "markdown",
   "id": "82001557",
   "metadata": {},
   "source": [
    "## Visuals"
   ]
  },
  {
   "cell_type": "code",
   "execution_count": null,
   "id": "e974a30b",
   "metadata": {},
   "outputs": [],
   "source": [
    "# Top 10 scorers\n",
    "top10 = df.sort_values(\"PTS\", ascending=False).head(10)\n",
    "plt.figure()\n",
    "plt.bar(top10[\"Player\"], top10[\"PTS\"])\n",
    "plt.xticks(rotation=45, ha=\"right\")\n",
    "plt.title(\"Top 10 — Points per Game\")\n",
    "plt.ylabel(\"PPG\")\n",
    "plt.tight_layout(); plt.show()"
   ]
  },
  {
   "cell_type": "code",
   "execution_count": null,
   "id": "6795fe9b",
   "metadata": {},
   "outputs": [],
   "source": [
    "# Histogram: Assists\n",
    "plt.figure()\n",
    "plt.hist(df[\"AST\"].dropna(), bins=8)\n",
    "plt.title(\"Distribution of Assists per Game\")\n",
    "plt.xlabel(\"AST\"); plt.ylabel(\"Count\")\n",
    "plt.tight_layout(); plt.show()"
   ]
  },
  {
   "cell_type": "code",
   "execution_count": null,
   "id": "345035e0",
   "metadata": {},
   "outputs": [],
   "source": [
    "# Scatter: PTS vs AST\n",
    "plt.figure()\n",
    "mask = df[\"PTS\"].notna() & df[\"AST\"].notna()\n",
    "plt.scatter(df.loc[mask,\"PTS\"], df.loc[mask,\"AST\"])\n",
    "plt.title(\"Points vs Assists\"); plt.xlabel(\"PTS\"); plt.ylabel(\"AST\")\n",
    "plt.tight_layout(); plt.show()"
   ]
  },
  {
   "cell_type": "markdown",
   "id": "89e4f2fd",
   "metadata": {},
   "source": [
    "## Save outputs"
   ]
  },
  {
   "cell_type": "code",
   "execution_count": null,
   "id": "bb7d54b6",
   "metadata": {},
   "outputs": [],
   "source": [
    "q3_table.to_csv(\"q3_composite_table.csv\", index=False)\n",
    "summary = {\n",
    "    \"top_scorer_player\": df.loc[df['PTS'].idxmax(), 'Player'],\n",
    "    \"best_all_around_player\": df.loc[df['ALL_AROUND'].idxmax(), 'Player'],\n",
    "    \"count_25ppg\": int((df['PTS'] >= 25).sum()),\n",
    "    \"count_8ast\": int((df['AST'] >= 8).sum())\n",
    "}\n",
    "import json\n",
    "with open(\"summary_answers.json\", \"w\") as f:\n",
    "    json.dump(summary, f, indent=2)\n",
    "summary"
   ]
  }
 ],
 "metadata": {},
 "nbformat": 4,
 "nbformat_minor": 5
}
